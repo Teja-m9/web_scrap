{
 "cells": [
  {
   "cell_type": "code",
   "execution_count": 2,
   "id": "fa61e9c5-912f-4642-bc59-d554b1c5538e",
   "metadata": {},
   "outputs": [
    {
     "name": "stdout",
     "output_type": "stream",
     "text": [
      "Defaulting to user installation because normal site-packages is not writeableNote: you may need to restart the kernel to use updated packages.\n",
      "\n",
      "Requirement already satisfied: requests in c:\\users\\teja-\\appdata\\local\\packages\\pythonsoftwarefoundation.python.3.12_qbz5n2kfra8p0\\localcache\\local-packages\\python312\\site-packages (2.32.3)\n",
      "Requirement already satisfied: beautifulsoup4 in c:\\users\\teja-\\appdata\\local\\packages\\pythonsoftwarefoundation.python.3.12_qbz5n2kfra8p0\\localcache\\local-packages\\python312\\site-packages (4.12.3)\n",
      "Requirement already satisfied: lxml in c:\\users\\teja-\\appdata\\local\\packages\\pythonsoftwarefoundation.python.3.12_qbz5n2kfra8p0\\localcache\\local-packages\\python312\\site-packages (5.3.0)\n",
      "Requirement already satisfied: charset-normalizer<4,>=2 in c:\\users\\teja-\\appdata\\local\\packages\\pythonsoftwarefoundation.python.3.12_qbz5n2kfra8p0\\localcache\\local-packages\\python312\\site-packages (from requests) (3.3.2)\n",
      "Requirement already satisfied: idna<4,>=2.5 in c:\\users\\teja-\\appdata\\local\\packages\\pythonsoftwarefoundation.python.3.12_qbz5n2kfra8p0\\localcache\\local-packages\\python312\\site-packages (from requests) (3.7)\n",
      "Requirement already satisfied: urllib3<3,>=1.21.1 in c:\\users\\teja-\\appdata\\local\\packages\\pythonsoftwarefoundation.python.3.12_qbz5n2kfra8p0\\localcache\\local-packages\\python312\\site-packages (from requests) (2.2.1)\n",
      "Requirement already satisfied: certifi>=2017.4.17 in c:\\users\\teja-\\appdata\\local\\packages\\pythonsoftwarefoundation.python.3.12_qbz5n2kfra8p0\\localcache\\local-packages\\python312\\site-packages (from requests) (2024.6.2)\n",
      "Requirement already satisfied: soupsieve>1.2 in c:\\users\\teja-\\appdata\\local\\packages\\pythonsoftwarefoundation.python.3.12_qbz5n2kfra8p0\\localcache\\local-packages\\python312\\site-packages (from beautifulsoup4) (2.5)\n"
     ]
    }
   ],
   "source": [
    "pip install requests beautifulsoup4 lxml"
   ]
  },
  {
   "cell_type": "code",
   "execution_count": 1,
   "id": "6029300c-8b5c-4459-a90c-cabb084c84bd",
   "metadata": {},
   "outputs": [
    {
     "name": "stdout",
     "output_type": "stream",
     "text": [
      "Defaulting to user installation because normal site-packages is not writeable\n",
      "Requirement already satisfied: pip in c:\\users\\teja-\\appdata\\local\\packages\\pythonsoftwarefoundation.python.3.12_qbz5n2kfra8p0\\localcache\\local-packages\\python312\\site-packages (24.3.1)\n",
      "Note: you may need to restart the kernel to use updated packages.\n"
     ]
    }
   ],
   "source": [
    "pip install --upgrade pip\n"
   ]
  },
  {
   "cell_type": "code",
   "execution_count": 3,
   "id": "8a3cc066-ad5f-4637-9b43-9c76f2eda206",
   "metadata": {},
   "outputs": [],
   "source": [
    "import requests \n",
    "url=\"https://scikit-learn.org/stable/index.html\"\n",
    "response=requests.get(url)\n",
    "if response.status_code==200:\n",
    "    html_content=response.content\n",
    "else:\n",
    "    print(\"Failed to load the content\")"
   ]
  },
  {
   "cell_type": "code",
   "execution_count": 6,
   "id": "37f0fef3-c95c-4990-84d3-74444db8151e",
   "metadata": {},
   "outputs": [
    {
     "name": "stdout",
     "output_type": "stream",
     "text": [
      "Identifying which category an object belongs to.\n",
      "\n",
      "Applications: Spam detection, image recognition.\n",
      "            Algorithms:\n",
      "Gradient boosting,\n",
      "            nearest neighbors,\n",
      "            random forest,\n",
      "            logistic regression,\n",
      "            and more...\n",
      "\n",
      "Predicting a continuous-valued attribute associated with an object.\n",
      "\n",
      "Applications: Drug response, stock prices.\n",
      "            Algorithms:\n",
      "Gradient boosting,\n",
      "            nearest neighbors,\n",
      "            random forest,\n",
      "            ridge,\n",
      "            and more...\n",
      "\n",
      "Automatic grouping of similar objects into sets.\n",
      "\n",
      "Applications: Customer segmentation, grouping experiment outcomes.\n",
      "            Algorithms:\n",
      "k-Means,\n",
      "            HDBSCAN,\n",
      "            hierarchical clustering,\n",
      "            and more...\n",
      "\n",
      "Reducing the number of random variables to consider.\n",
      "\n",
      "Applications: Visualization, increased efficiency.\n",
      "            Algorithms:\n",
      "PCA,\n",
      "            feature selection,\n",
      "            non-negative matrix factorization,\n",
      "            and more...\n",
      "\n",
      "Comparing, validating and choosing parameters and models.\n",
      "\n",
      "Applications: Improved accuracy via parameter tuning.\n",
      "            Algorithms:\n",
      "Grid search,\n",
      "            cross validation,\n",
      "            metrics,\n",
      "            and more...\n",
      "\n",
      "Feature extraction and normalization.\n",
      "\n",
      "Applications: Transforming input data such as text for use with machine learning algorithms.\n",
      "            Algorithms:\n",
      "Preprocessing,\n",
      "            feature extraction,\n",
      "            and more...\n",
      "\n",
      "\n",
      "Help us, donate!\n",
      "Cite us!\n",
      "\n",
      "\n",
      "More testimonials...\n",
      "\n",
      "\n",
      "          scikit-learn development and maintenance are financially supported by\n",
      "        \n"
     ]
    }
   ],
   "source": [
    "from bs4 import BeautifulSoup\n",
    "soup=BeautifulSoup(html_content,'lxml')\n",
    "titles=soup.find_all('p')\n",
    "for title in titles:\n",
    "    print(title.text)\n"
   ]
  },
  {
   "cell_type": "code",
   "execution_count": null,
   "id": "141bf81f-ef09-4027-a7d1-93ffbbde0208",
   "metadata": {},
   "outputs": [],
   "source": []
  }
 ],
 "metadata": {
  "kernelspec": {
   "display_name": "Python 3 (ipykernel)",
   "language": "python",
   "name": "python3"
  },
  "language_info": {
   "codemirror_mode": {
    "name": "ipython",
    "version": 3
   },
   "file_extension": ".py",
   "mimetype": "text/x-python",
   "name": "python",
   "nbconvert_exporter": "python",
   "pygments_lexer": "ipython3",
   "version": "3.12.7"
  }
 },
 "nbformat": 4,
 "nbformat_minor": 5
}
